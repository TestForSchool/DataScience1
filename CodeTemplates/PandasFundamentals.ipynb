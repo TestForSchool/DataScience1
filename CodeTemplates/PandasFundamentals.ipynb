{
 "cells": [
  {
   "cell_type": "code",
   "execution_count": 1,
   "id": "8e2a3488",
   "metadata": {},
   "outputs": [],
   "source": [
    "import pandas as pd\n",
    "import random"
   ]
  },
  {
   "cell_type": "code",
   "execution_count": 2,
   "id": "c4470c1f",
   "metadata": {},
   "outputs": [],
   "source": [
    "# Challenge 1\n",
    "df = pd.read_csv(\"pirates.csv\") # This requires the csv file to be in the same folder as this Jupyter notebook."
   ]
  },
  {
   "cell_type": "code",
   "execution_count": 3,
   "id": "88d9e162",
   "metadata": {},
   "outputs": [
    {
     "name": "stdout",
     "output_type": "stream",
     "text": [
      "<class 'pandas.core.frame.DataFrame'>\n",
      "RangeIndex: 1000 entries, 0 to 999\n",
      "Data columns (total 17 columns):\n",
      " #   Column           Non-Null Count  Dtype  \n",
      "---  ------           --------------  -----  \n",
      " 0   id               1000 non-null   int64  \n",
      " 1   sex              1000 non-null   object \n",
      " 2   age              999 non-null    float64\n",
      " 3   height           1000 non-null   float64\n",
      " 4   weight           1000 non-null   float64\n",
      " 5   headband         999 non-null    object \n",
      " 6   college          1000 non-null   object \n",
      " 7   tattoos          1000 non-null   int64  \n",
      " 8   tchests          1000 non-null   int64  \n",
      " 9   parrots          1000 non-null   object \n",
      " 10  favorite.pirate  999 non-null    object \n",
      " 11  sword.type       1000 non-null   object \n",
      " 12  eyepatch         1000 non-null   int64  \n",
      " 13  sword.time       999 non-null    float64\n",
      " 14  beard.length     1000 non-null   int64  \n",
      " 15  fav.pixar        1000 non-null   object \n",
      " 16  grogg            1000 non-null   int64  \n",
      "dtypes: float64(4), int64(6), object(7)\n",
      "memory usage: 132.9+ KB\n"
     ]
    }
   ],
   "source": [
    "# Challlenge 2 - Part 1 & 2\n",
    "df.info()"
   ]
  },
  {
   "cell_type": "code",
   "execution_count": 4,
   "id": "b3070fda",
   "metadata": {},
   "outputs": [
    {
     "name": "stdout",
     "output_type": "stream",
     "text": [
      "34\n",
      "age\n",
      "1000\n",
      "headband\n",
      "635\n",
      "favorite.pirate\n",
      "137\n",
      "sword.time\n"
     ]
    }
   ],
   "source": [
    "# Challenge 2 - Part 3\n",
    "for column in df.columns:\n",
    "    for row in range(len(df[\"id\"])):\n",
    "        if pd.isna(df.loc[row, column]):\n",
    "            print(row + 1)\n",
    "            print(column)"
   ]
  },
  {
   "cell_type": "code",
   "execution_count": 5,
   "id": "2fa6fb63",
   "metadata": {},
   "outputs": [
    {
     "data": {
      "text/html": [
       "<div>\n",
       "<style scoped>\n",
       "    .dataframe tbody tr th:only-of-type {\n",
       "        vertical-align: middle;\n",
       "    }\n",
       "\n",
       "    .dataframe tbody tr th {\n",
       "        vertical-align: top;\n",
       "    }\n",
       "\n",
       "    .dataframe thead th {\n",
       "        text-align: right;\n",
       "    }\n",
       "</style>\n",
       "<table border=\"1\" class=\"dataframe\">\n",
       "  <thead>\n",
       "    <tr style=\"text-align: right;\">\n",
       "      <th></th>\n",
       "      <th>id</th>\n",
       "      <th>sex</th>\n",
       "      <th>age</th>\n",
       "      <th>height</th>\n",
       "      <th>weight</th>\n",
       "      <th>headband</th>\n",
       "      <th>college</th>\n",
       "      <th>tattoos</th>\n",
       "      <th>tchests</th>\n",
       "      <th>parrots</th>\n",
       "      <th>favorite.pirate</th>\n",
       "      <th>sword.type</th>\n",
       "      <th>eyepatch</th>\n",
       "      <th>sword.time</th>\n",
       "      <th>beard.length</th>\n",
       "      <th>fav.pixar</th>\n",
       "      <th>grogg</th>\n",
       "    </tr>\n",
       "  </thead>\n",
       "  <tbody>\n",
       "    <tr>\n",
       "      <th>0</th>\n",
       "      <td>1</td>\n",
       "      <td>male</td>\n",
       "      <td>28.0</td>\n",
       "      <td>173.11</td>\n",
       "      <td>70.5</td>\n",
       "      <td>yes</td>\n",
       "      <td>JSSFP</td>\n",
       "      <td>9</td>\n",
       "      <td>0</td>\n",
       "      <td>0</td>\n",
       "      <td>Jack Sparrow</td>\n",
       "      <td>cutlass</td>\n",
       "      <td>1</td>\n",
       "      <td>0.58</td>\n",
       "      <td>16</td>\n",
       "      <td>Monsters, Inc.</td>\n",
       "      <td>11</td>\n",
       "    </tr>\n",
       "    <tr>\n",
       "      <th>1</th>\n",
       "      <td>2</td>\n",
       "      <td>male</td>\n",
       "      <td>31.0</td>\n",
       "      <td>209.25</td>\n",
       "      <td>105.6</td>\n",
       "      <td>yes</td>\n",
       "      <td>JSSFP</td>\n",
       "      <td>9</td>\n",
       "      <td>11</td>\n",
       "      <td>0</td>\n",
       "      <td>Jack Sparrow</td>\n",
       "      <td>cutlass</td>\n",
       "      <td>0</td>\n",
       "      <td>1.11</td>\n",
       "      <td>21</td>\n",
       "      <td>WALL-E</td>\n",
       "      <td>9</td>\n",
       "    </tr>\n",
       "    <tr>\n",
       "      <th>2</th>\n",
       "      <td>3</td>\n",
       "      <td>male</td>\n",
       "      <td>26.0</td>\n",
       "      <td>169.95</td>\n",
       "      <td>77.1</td>\n",
       "      <td>yes</td>\n",
       "      <td>CCCC</td>\n",
       "      <td>10</td>\n",
       "      <td>10</td>\n",
       "      <td>1</td>\n",
       "      <td>Jack Sparrow</td>\n",
       "      <td>cutlass</td>\n",
       "      <td>1</td>\n",
       "      <td>1.44</td>\n",
       "      <td>19</td>\n",
       "      <td>Inside Out</td>\n",
       "      <td>7</td>\n",
       "    </tr>\n",
       "    <tr>\n",
       "      <th>3</th>\n",
       "      <td>4</td>\n",
       "      <td>female</td>\n",
       "      <td>31.0</td>\n",
       "      <td>144.29</td>\n",
       "      <td>58.5</td>\n",
       "      <td>no</td>\n",
       "      <td>JSSFP</td>\n",
       "      <td>2</td>\n",
       "      <td>0</td>\n",
       "      <td>2</td>\n",
       "      <td>Jack Sparrow</td>\n",
       "      <td>scimitar</td>\n",
       "      <td>1</td>\n",
       "      <td>36.11</td>\n",
       "      <td>2</td>\n",
       "      <td>Inside Out</td>\n",
       "      <td>9</td>\n",
       "    </tr>\n",
       "    <tr>\n",
       "      <th>4</th>\n",
       "      <td>5</td>\n",
       "      <td>female</td>\n",
       "      <td>41.0</td>\n",
       "      <td>157.85</td>\n",
       "      <td>58.4</td>\n",
       "      <td>yes</td>\n",
       "      <td>JSSFP</td>\n",
       "      <td>9</td>\n",
       "      <td>6</td>\n",
       "      <td>4</td>\n",
       "      <td>Hook</td>\n",
       "      <td>cutlass</td>\n",
       "      <td>1</td>\n",
       "      <td>0.11</td>\n",
       "      <td>0</td>\n",
       "      <td>Inside Out</td>\n",
       "      <td>14</td>\n",
       "    </tr>\n",
       "    <tr>\n",
       "      <th>...</th>\n",
       "      <td>...</td>\n",
       "      <td>...</td>\n",
       "      <td>...</td>\n",
       "      <td>...</td>\n",
       "      <td>...</td>\n",
       "      <td>...</td>\n",
       "      <td>...</td>\n",
       "      <td>...</td>\n",
       "      <td>...</td>\n",
       "      <td>...</td>\n",
       "      <td>...</td>\n",
       "      <td>...</td>\n",
       "      <td>...</td>\n",
       "      <td>...</td>\n",
       "      <td>...</td>\n",
       "      <td>...</td>\n",
       "      <td>...</td>\n",
       "    </tr>\n",
       "    <tr>\n",
       "      <th>994</th>\n",
       "      <td>995</td>\n",
       "      <td>male</td>\n",
       "      <td>34.0</td>\n",
       "      <td>172.45</td>\n",
       "      <td>75.0</td>\n",
       "      <td>yes</td>\n",
       "      <td>JSSFP</td>\n",
       "      <td>9</td>\n",
       "      <td>18</td>\n",
       "      <td>16</td>\n",
       "      <td>Jack Sparrow</td>\n",
       "      <td>cutlass</td>\n",
       "      <td>1</td>\n",
       "      <td>0.16</td>\n",
       "      <td>18</td>\n",
       "      <td>Toy Story 3</td>\n",
       "      <td>10</td>\n",
       "    </tr>\n",
       "    <tr>\n",
       "      <th>995</th>\n",
       "      <td>996</td>\n",
       "      <td>male</td>\n",
       "      <td>26.0</td>\n",
       "      <td>178.83</td>\n",
       "      <td>70.8</td>\n",
       "      <td>yes</td>\n",
       "      <td>CCCC</td>\n",
       "      <td>14</td>\n",
       "      <td>11</td>\n",
       "      <td>2</td>\n",
       "      <td>Jack Sparrow</td>\n",
       "      <td>cutlass</td>\n",
       "      <td>0</td>\n",
       "      <td>0.46</td>\n",
       "      <td>20</td>\n",
       "      <td>Up</td>\n",
       "      <td>13</td>\n",
       "    </tr>\n",
       "    <tr>\n",
       "      <th>996</th>\n",
       "      <td>997</td>\n",
       "      <td>female</td>\n",
       "      <td>34.0</td>\n",
       "      <td>157.20</td>\n",
       "      <td>53.6</td>\n",
       "      <td>yes</td>\n",
       "      <td>JSSFP</td>\n",
       "      <td>13</td>\n",
       "      <td>48</td>\n",
       "      <td>2</td>\n",
       "      <td>Hook</td>\n",
       "      <td>cutlass</td>\n",
       "      <td>0</td>\n",
       "      <td>0.15</td>\n",
       "      <td>0</td>\n",
       "      <td>Finding Nemo</td>\n",
       "      <td>8</td>\n",
       "    </tr>\n",
       "    <tr>\n",
       "      <th>997</th>\n",
       "      <td>998</td>\n",
       "      <td>male</td>\n",
       "      <td>36.0</td>\n",
       "      <td>175.74</td>\n",
       "      <td>72.4</td>\n",
       "      <td>yes</td>\n",
       "      <td>JSSFP</td>\n",
       "      <td>9</td>\n",
       "      <td>95</td>\n",
       "      <td>14</td>\n",
       "      <td>Jack Sparrow</td>\n",
       "      <td>cutlass</td>\n",
       "      <td>1</td>\n",
       "      <td>1.28</td>\n",
       "      <td>18</td>\n",
       "      <td>The Incredibles</td>\n",
       "      <td>11</td>\n",
       "    </tr>\n",
       "    <tr>\n",
       "      <th>998</th>\n",
       "      <td>999</td>\n",
       "      <td>male</td>\n",
       "      <td>30.0</td>\n",
       "      <td>175.24</td>\n",
       "      <td>70.2</td>\n",
       "      <td>yes</td>\n",
       "      <td>JSSFP</td>\n",
       "      <td>9</td>\n",
       "      <td>6</td>\n",
       "      <td>0</td>\n",
       "      <td>Lewis Scot</td>\n",
       "      <td>cutlass</td>\n",
       "      <td>1</td>\n",
       "      <td>0.21</td>\n",
       "      <td>24</td>\n",
       "      <td>Inside Out</td>\n",
       "      <td>10</td>\n",
       "    </tr>\n",
       "  </tbody>\n",
       "</table>\n",
       "<p>996 rows × 17 columns</p>\n",
       "</div>"
      ],
      "text/plain": [
       "      id     sex   age  height  weight headband college  tattoos  tchests  \\\n",
       "0      1    male  28.0  173.11    70.5      yes   JSSFP        9        0   \n",
       "1      2    male  31.0  209.25   105.6      yes   JSSFP        9       11   \n",
       "2      3    male  26.0  169.95    77.1      yes    CCCC       10       10   \n",
       "3      4  female  31.0  144.29    58.5       no   JSSFP        2        0   \n",
       "4      5  female  41.0  157.85    58.4      yes   JSSFP        9        6   \n",
       "..   ...     ...   ...     ...     ...      ...     ...      ...      ...   \n",
       "994  995    male  34.0  172.45    75.0      yes   JSSFP        9       18   \n",
       "995  996    male  26.0  178.83    70.8      yes    CCCC       14       11   \n",
       "996  997  female  34.0  157.20    53.6      yes   JSSFP       13       48   \n",
       "997  998    male  36.0  175.74    72.4      yes   JSSFP        9       95   \n",
       "998  999    male  30.0  175.24    70.2      yes   JSSFP        9        6   \n",
       "\n",
       "    parrots favorite.pirate sword.type  eyepatch  sword.time  beard.length  \\\n",
       "0         0    Jack Sparrow    cutlass         1        0.58            16   \n",
       "1         0    Jack Sparrow    cutlass         0        1.11            21   \n",
       "2         1    Jack Sparrow    cutlass         1        1.44            19   \n",
       "3         2    Jack Sparrow   scimitar         1       36.11             2   \n",
       "4         4            Hook    cutlass         1        0.11             0   \n",
       "..      ...             ...        ...       ...         ...           ...   \n",
       "994      16    Jack Sparrow    cutlass         1        0.16            18   \n",
       "995       2    Jack Sparrow    cutlass         0        0.46            20   \n",
       "996       2            Hook    cutlass         0        0.15             0   \n",
       "997      14    Jack Sparrow    cutlass         1        1.28            18   \n",
       "998       0      Lewis Scot    cutlass         1        0.21            24   \n",
       "\n",
       "           fav.pixar  grogg  \n",
       "0     Monsters, Inc.     11  \n",
       "1             WALL-E      9  \n",
       "2         Inside Out      7  \n",
       "3         Inside Out      9  \n",
       "4         Inside Out     14  \n",
       "..               ...    ...  \n",
       "994      Toy Story 3     10  \n",
       "995               Up     13  \n",
       "996     Finding Nemo      8  \n",
       "997  The Incredibles     11  \n",
       "998       Inside Out     10  \n",
       "\n",
       "[996 rows x 17 columns]"
      ]
     },
     "execution_count": 5,
     "metadata": {},
     "output_type": "execute_result"
    }
   ],
   "source": [
    "# Challenge 3\n",
    "# Technique 1\n",
    "# This drops all rows that contain a null value\n",
    "\n",
    "df.dropna()"
   ]
  },
  {
   "cell_type": "code",
   "execution_count": 6,
   "id": "d1e94e3b",
   "metadata": {},
   "outputs": [],
   "source": [
    "# Challenge 3\n",
    "# Technique 2\n",
    "# Drops just the age row that features a null\n",
    "\n",
    "df.drop(33, inplace=True)"
   ]
  },
  {
   "cell_type": "code",
   "execution_count": 7,
   "id": "bcebcfca",
   "metadata": {},
   "outputs": [],
   "source": [
    "# Challenge 3\n",
    "# Technique 3\n",
    "# Reassigns the missing value in age to the mean of ages\n",
    "\n",
    "df.loc[33, \"age\"] = df[\"age\"].mean()"
   ]
  },
  {
   "cell_type": "code",
   "execution_count": 8,
   "id": "e8b73f3d",
   "metadata": {},
   "outputs": [],
   "source": [
    "# Challenge 3\n",
    "# Technique 4\n",
    "# Reassigns the missing value in favorite.pirate to the mode\n",
    "\n",
    "df.loc[634, \"favorite.pirate\"] = df[\"favorite.pirate\"].mode()[0]"
   ]
  },
  {
   "cell_type": "code",
   "execution_count": 9,
   "id": "f7809459",
   "metadata": {},
   "outputs": [],
   "source": [
    "# Challenge 3\n",
    "# Technique 5\n",
    "# Assigns the missing age value to a random integer in the range of the smallest age in the dataset and the largest age in dataset\n",
    "df.loc[33, \"age\"] = random.randint(df[\"age\"].min(), df[\"age\"].max())"
   ]
  },
  {
   "cell_type": "code",
   "execution_count": 10,
   "id": "8908bdd3",
   "metadata": {},
   "outputs": [
    {
     "name": "stdout",
     "output_type": "stream",
     "text": [
      "Number of unique genders represented in the dataset: 3\n"
     ]
    }
   ],
   "source": [
    "unique_genders = df['sex'].nunique()\n",
    "\n",
    "print(\"Number of unique genders represented in the dataset:\", unique_genders)"
   ]
  },
  {
   "cell_type": "code",
   "execution_count": 11,
   "id": "36912801",
   "metadata": {},
   "outputs": [
    {
     "name": "stdout",
     "output_type": "stream",
     "text": [
      "Average age of female pirates: 29.922246220302377\n"
     ]
    }
   ],
   "source": [
    "female_pirates = df[df['sex'] == 'female']\n",
    "average_age_female_pirates = female_pirates['age'].mean()\n",
    "print(\"Average age of female pirates:\", average_age_female_pirates)"
   ]
  },
  {
   "cell_type": "code",
   "execution_count": 12,
   "id": "176ccac1",
   "metadata": {},
   "outputs": [
    {
     "name": "stdout",
     "output_type": "stream",
     "text": [
      "0.80% of pirates weigh less than 100 pounds (in kilograms).\n"
     ]
    }
   ],
   "source": [
    "df['weight_pounds'] = df['weight'] * 2.20462\n",
    "less_than_100_pounds = df[df['weight_pounds'] < 100]\n",
    "percentage_less_than_100_pounds = (len(less_than_100_pounds) / len(df)) * 100\n",
    "\n",
    "print(f\"{percentage_less_than_100_pounds:.2f}% of pirates weigh less than 100 pounds (in kilograms).\")"
   ]
  },
  {
   "cell_type": "code",
   "execution_count": 14,
   "id": "9ae1ff45",
   "metadata": {},
   "outputs": [
    {
     "name": "stdout",
     "output_type": "stream",
     "text": [
      "ID of the Tallest Pirate: 1\n",
      "Details of the Tallest Pirate:\n",
      "id                          2.0\n",
      "sex                        male\n",
      "age                        31.0\n",
      "height                   209.25\n",
      "weight                    105.6\n",
      "headband                    yes\n",
      "college                   JSSFP\n",
      "tattoos                     9.0\n",
      "tchests                    11.0\n",
      "parrots                       0\n",
      "favorite.pirate    Jack Sparrow\n",
      "sword.type              cutlass\n",
      "eyepatch                    0.0\n",
      "sword.time                 1.11\n",
      "beard.length               21.0\n",
      "fav.pixar                WALL-E\n",
      "grogg                       9.0\n",
      "weight_pounds        232.807872\n",
      "Name: 1, dtype: object\n"
     ]
    }
   ],
   "source": [
    "\n",
    "tallest_pirate_id = df['height'].idxmax()\n",
    "tallest_pirate_details = df.loc[tallest_pirate_id]\n",
    "print(\"ID of the Tallest Pirate:\", tallest_pirate_id)\n",
    "print(\"Details of the Tallest Pirate:\")\n",
    "print(tallest_pirate_details)"
   ]
  },
  {
   "cell_type": "code",
   "execution_count": 18,
   "id": "53f90393",
   "metadata": {},
   "outputs": [
    {
     "name": "stdout",
     "output_type": "stream",
     "text": [
      "The tallest pirate is:\n",
      "    id   sex   age  height  weight headband college  tattoos  tchests parrots  \\\n",
      "1  2.0  male  31.0  209.25   105.6      yes   JSSFP      9.0     11.0       0   \n",
      "\n",
      "  favorite.pirate sword.type  eyepatch  sword.time  beard.length fav.pixar  \\\n",
      "1    Jack Sparrow    cutlass       0.0        1.11          21.0    WALL-E   \n",
      "\n",
      "   grogg  weight_pounds  \n",
      "1    9.0     232.807872  \n"
     ]
    }
   ],
   "source": [
    "tallest_pirate_row == df['height'].max()\n",
    "\n",
    "\n",
    "print(\"The tallest pirate is:\")\n",
    "print(tallest_pirate_row)"
   ]
  },
  {
   "cell_type": "code",
   "execution_count": 23,
   "id": "e077fde8",
   "metadata": {},
   "outputs": [
    {
     "name": "stdout",
     "output_type": "stream",
     "text": [
      "0.6576576576576577\n",
      "1.0\n"
     ]
    }
   ],
   "source": [
    "average_eye = df['eyepatch'].mean()\n",
    "md_eye = df['eyepatch'].median()\n",
    "print (average_eye)\n",
    "print (md_eye)"
   ]
  },
  {
   "cell_type": "code",
   "execution_count": 26,
   "id": "a2bad63d",
   "metadata": {},
   "outputs": [
    {
     "ename": "AttributeError",
     "evalue": "type object 'int' has no attribute 'df'",
     "output_type": "error",
     "traceback": [
      "\u001b[1;31m---------------------------------------------------------------------------\u001b[0m",
      "\u001b[1;31mAttributeError\u001b[0m                            Traceback (most recent call last)",
      "\u001b[1;32m~\\AppData\\Local\\Temp\\ipykernel_784\\601107145.py\u001b[0m in \u001b[0;36m<module>\u001b[1;34m\u001b[0m\n\u001b[1;32m----> 1\u001b[1;33m \u001b[0maverage_brib\u001b[0m \u001b[1;33m=\u001b[0m \u001b[0mint\u001b[0m\u001b[1;33m.\u001b[0m\u001b[0mdf\u001b[0m\u001b[1;33m[\u001b[0m\u001b[1;34m'parrots'\u001b[0m\u001b[1;33m]\u001b[0m\u001b[1;33m\u001b[0m\u001b[1;33m\u001b[0m\u001b[0m\n\u001b[0m",
      "\u001b[1;31mAttributeError\u001b[0m: type object 'int' has no attribute 'df'"
     ]
    }
   ],
   "source": []
  },
  {
   "cell_type": "code",
   "execution_count": null,
   "id": "00ee6e58",
   "metadata": {},
   "outputs": [],
   "source": []
  }
 ],
 "metadata": {
  "kernelspec": {
   "display_name": "Python 3 (ipykernel)",
   "language": "python",
   "name": "python3"
  },
  "language_info": {
   "codemirror_mode": {
    "name": "ipython",
    "version": 3
   },
   "file_extension": ".py",
   "mimetype": "text/x-python",
   "name": "python",
   "nbconvert_exporter": "python",
   "pygments_lexer": "ipython3",
   "version": "3.9.13"
  }
 },
 "nbformat": 4,
 "nbformat_minor": 5
}
